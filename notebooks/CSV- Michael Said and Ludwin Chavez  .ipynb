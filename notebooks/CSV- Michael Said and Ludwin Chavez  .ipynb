{
 "cells": [
  {
   "cell_type": "markdown",
   "metadata": {},
   "source": [
    "# The CSV Module\n"
   ]
  },
  {
   "cell_type": "markdown",
   "metadata": {},
   "source": [
    "The csv module is used to read data files in the CSV (comma-separated values) format, as used by Microsoft Excel and many other applications. A CSV file contains a number of rows, each containing a number of columns, usually separated by commas. An example:"
   ]
  },
  {
   "cell_type": "markdown",
   "metadata": {
    "collapsed": true
   },
   "source": [
    "Title,Release Date,Director\n",
    "And Now For Something Completely Different,1971,Ian MacNaughton\n",
    "Monty Python And The Holy Grail,1975,Terry Gilliam and Terry Jones\n",
    "Monty Python's Life Of Brian,1979,Terry Jones\n",
    "Monty Python Live At The Hollywood Bowl,1982,Terry Hughes\n",
    "Monty Python's The Meaning Of Life,1983,Terry Jones"
   ]
  },
  {
   "cell_type": "markdown",
   "metadata": {},
   "source": [
    "To read this file, you could simply loop over the lines, and use the split method to get the individual columns:"
   ]
  },
  {
   "cell_type": "markdown",
   "metadata": {},
   "source": [
    "for line in open(\"samples/sample.csv\"):\n",
    "    title, year, director = line.split(\",\")\n",
    "    print year, title"
   ]
  },
  {
   "cell_type": "markdown",
   "metadata": {},
   "source": [
    "# Using the csv module instead, you can write:"
   ]
  },
  {
   "cell_type": "markdown",
   "metadata": {},
   "source": [
    " File: csv-example-1.py\n",
    "\n",
    "import csv\n",
    "\n",
    "reader = csv.reader(open(\"samples/sample.csv\"))\n",
    "\n",
    "for title, year, director in reader:\n",
    "    print year, title\n",
    "$ python csv-example-1.py\n",
    "Release Date Title\n",
    "1971 And Now For Something Completely Different\n",
    "1975 Monty Python And The Holy Grail\n",
    "1979 Monty Python's Life Of Brian\n",
    "1982 Monty Python Live At The Hollywood Bowl\n",
    "1983 Monty Python's The Meaning Of Life"
   ]
  },
  {
   "cell_type": "markdown",
   "metadata": {},
   "source": [
    "The reader function takes sequence or an iterable file object, and returns an iterator.\n",
    "\n",
    "The parser used by the csv module does a lot more than just splitting strings on commas. It handles quoted values and line endings properly, so you can read files that contain arbitrary strings (including strings that contain commas). It’s also configurable; you can create and register “dialect” descriptors, and use them to read different CSV flavours."
   ]
  },
  {
   "cell_type": "markdown",
   "metadata": {},
   "source": [
    "For example, here’s how to read the Swedish variant of CSV, which uses semicolons instead of commas:"
   ]
  },
  {
   "cell_type": "markdown",
   "metadata": {},
   "source": [
    "# File: csv-example-2.py\n",
    "\n",
    "import csv\n",
    "\n",
    "class SKV(csv.excel):\n",
    "    # like excel, but uses semicolons\n",
    "    delimiter = \";\"\n",
    "\n",
    "csv.register_dialect(\"SKV\", SKV)\n",
    "\n",
    "reader = csv.reader(open(\"samples/sample.skv\"), \"SKV\")\n",
    "\n",
    "for title, year, director in reader:\n",
    "    print year, title"
   ]
  },
  {
   "cell_type": "markdown",
   "metadata": {},
   "source": [
    "Note that if you only need to modify a few parameters, you can pass them as keyword arguments to the reader function:"
   ]
  },
  {
   "cell_type": "markdown",
   "metadata": {},
   "source": []
  }
 ],
 "metadata": {
  "kernelspec": {
   "display_name": "Python 3",
   "language": "python",
   "name": "python3"
  },
  "language_info": {
   "codemirror_mode": {
    "name": "ipython",
    "version": 3
   },
   "file_extension": ".py",
   "mimetype": "text/x-python",
   "name": "python",
   "nbconvert_exporter": "python",
   "pygments_lexer": "ipython3",
   "version": "3.4.4"
  }
 },
 "nbformat": 4,
 "nbformat_minor": 0
}
