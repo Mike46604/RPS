{
 "cells": [
  {
   "cell_type": "markdown",
   "metadata": {},
   "source": [
    "# File Input and Output"
   ]
  },
  {
   "cell_type": "markdown",
   "metadata": {
    "collapsed": true
   },
   "source": [
    "[It's possible to create, open, and edit files using Python](https://docs.python.org/3.4/tutorial/inputoutput.html#reading-and-writing-files). A _file object_ is just like any other object in Python; it has methods and functions and all of the other goodies that make Python fun and useful. More often than not, you'll be using the `open()` function alongside the `write()` and `readline()` methods.\n",
    "\n",
    "Files are one way of permanently storing information.\n",
    "\n",
    "The `open` function returns a file object. It requires one argument and can accept a second, as seen in the examples below:"
   ]
  },
  {
   "cell_type": "code",
   "execution_count": 9,
   "metadata": {
    "collapsed": false
   },
   "outputs": [],
   "source": [
    "# Stores the file object containing the text of Alice in Wonderland to the\n",
    "# variable alice_in_wonderland, then closes the file so that it can't be read or written.\n",
    "# If you run this cell, you'll see nothing interesting happens.\n",
    "alice_in_wonderland = open('../data/alice.txt')\n",
    "alice_in_wonderland.close()"
   ]
  },
  {
   "cell_type": "markdown",
   "metadata": {},
   "source": [
    "By default, file objects are read-only. If we try to `write` to alice_in_wonderland, we'll get an error."
   ]
  },
  {
   "cell_type": "code",
   "execution_count": 10,
   "metadata": {
    "collapsed": false
   },
   "outputs": [
    {
     "ename": "UnsupportedOperation",
     "evalue": "not writable",
     "output_type": "error",
     "traceback": [
      "\u001b[0;31m---------------------------------------------------------------------------\u001b[0m",
      "\u001b[0;31mUnsupportedOperation\u001b[0m                      Traceback (most recent call last)",
      "\u001b[0;32m<ipython-input-10-ce3777d507ac>\u001b[0m in \u001b[0;36m<module>\u001b[0;34m()\u001b[0m\n\u001b[1;32m      1\u001b[0m \u001b[0malice_in_wonderland\u001b[0m \u001b[0;34m=\u001b[0m \u001b[0mopen\u001b[0m\u001b[0;34m(\u001b[0m\u001b[0;34m'../data/alice.txt'\u001b[0m\u001b[0;34m)\u001b[0m\u001b[0;34m\u001b[0m\u001b[0m\n\u001b[0;32m----> 2\u001b[0;31m \u001b[0malice_in_wonderland\u001b[0m\u001b[0;34m.\u001b[0m\u001b[0mwrite\u001b[0m\u001b[0;34m(\u001b[0m\u001b[0;34m'Alice totally gets eaten by a monster!'\u001b[0m\u001b[0;34m)\u001b[0m\u001b[0;34m\u001b[0m\u001b[0m\n\u001b[0m",
      "\u001b[0;31mUnsupportedOperation\u001b[0m: not writable"
     ]
    }
   ],
   "source": [
    "alice_in_wonderland = open('../data/alice.txt')\n",
    "alice_in_wonderland.write('Alice totally gets eaten by a monster!')"
   ]
  },
  {
   "cell_type": "markdown",
   "metadata": {},
   "source": [
    "However, we can still read the file. If we want, we can print the entire contents of the file line by line with a simple `for` loop."
   ]
  },
  {
   "cell_type": "code",
   "execution_count": null,
   "metadata": {
    "collapsed": false
   },
   "outputs": [],
   "source": [
    "alice_in_wonderland = open('../data/alice.txt')\n",
    "\n",
    "for line in alice_in_wonderland:\n",
    "    print(line)\n",
    "    \n",
    "alice_in_wonderland.close()"
   ]
  },
  {
   "cell_type": "markdown",
   "metadata": {},
   "source": [
    " Unlike lists, file objects are iterable, but not subscriptable! Be careful!"
   ]
  },
  {
   "cell_type": "code",
   "execution_count": null,
   "metadata": {
    "collapsed": false
   },
   "outputs": [],
   "source": [
    "# You can select the last item in a list as follows because lists are subscriptable.\n",
    "generic_list = [1, 2, 3, 4, 5]\n",
    "print(generic_list[-1])"
   ]
  },
  {
   "cell_type": "code",
   "execution_count": null,
   "metadata": {
    "collapsed": false
   },
   "outputs": [],
   "source": [
    "# Even though you can iterate over each line in a file, you can't select a specific line\n",
    "# like you can with a list.\n",
    "\n",
    "alice_in_wonderland = open('../data/alice.txt')\n",
    "\n",
    "# Trying to print the last line in a file\n",
    "\n",
    "print(alice_in_wonderland[-1])"
   ]
  },
  {
   "cell_type": "markdown",
   "metadata": {},
   "source": [
    "If we plan on doing more than just reading a file, we can add a second argument to the `open()` method of the file object. \"r+\" opens the file for reading and writing, \"a\" allows us to add on to the end of the file, while \"w\" allows us to write only. \n",
    "\n",
    "__NOTE:__ Opening an existing file with the \"w\" argument will __erase the contents of that file. Be careful!__\n",
    "\n",
    "Let's close the Alice file and then re-open it with the \"a\" argument."
   ]
  },
  {
   "cell_type": "code",
   "execution_count": null,
   "metadata": {
    "collapsed": false
   },
   "outputs": [],
   "source": [
    "alice_in_wonderland.close()\n",
    "\n",
    "# Open the file to append info.\n",
    "\n",
    "alice_in_wonderland = open('../data/alice.txt', 'a')\n",
    "\n",
    "# This puts the cursor at the end of the file (EOF), allowing us to add on to the end\n",
    "\n",
    "alice_in_wonderland.write('\\n\\n A grand story.')\n",
    "\n",
    "# If you open up the alice.txt file, you'll see the last line is now \"A grand story\"\n",
    "# with a blank line above it.\n",
    "\n",
    "alice_in_wonderland.close()"
   ]
  },
  {
   "cell_type": "markdown",
   "metadata": {},
   "source": [
    "One final note - often times it saves time and energy to use the `with` keyword to handle opening and closing files for you. Instead of explicitly calling the `close()` method of a file object, using `with` closes the file automatically at the end of the block. \n",
    "\n",
    "For example:"
   ]
  },
  {
   "cell_type": "code",
   "execution_count": null,
   "metadata": {
    "collapsed": false
   },
   "outputs": [],
   "source": [
    "with open('../data/alice.txt', 'r') as f:\n",
    "# Is f closed?\n",
    "    print(f.closed)\n",
    "    \n",
    "    # print the first line\n",
    "    print(f.readline())\n",
    "    \n",
    "# How about now?\n",
    "print(f.closed)\n"
   ]
  }
 ],
 "metadata": {
  "anaconda-cloud": {},
  "kernelspec": {
   "display_name": "Python [default]",
   "language": "python",
   "name": "python3"
  },
  "language_info": {
   "codemirror_mode": {
    "name": "ipython",
    "version": 3
   },
   "file_extension": ".py",
   "mimetype": "text/x-python",
   "name": "python",
   "nbconvert_exporter": "python",
   "pygments_lexer": "ipython3",
   "version": "3.5.2"
  }
 },
 "nbformat": 4,
 "nbformat_minor": 0
}
