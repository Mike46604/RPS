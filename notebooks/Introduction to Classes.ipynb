{
 "cells": [
  {
   "cell_type": "markdown",
   "metadata": {},
   "source": [
    "# Introduction to Rolling Your Own Objects"
   ]
  },
  {
   "cell_type": "markdown",
   "metadata": {},
   "source": [
    "We've worked for the last few weeks on several of Python's built-in objects -- but the whole point of learning a language, be it spoken, written, or programmed, is to be able to express ourselves! What if we wanted to create our own objects?"
   ]
  },
  {
   "cell_type": "markdown",
   "metadata": {},
   "source": [
    "Fortunately, in Python, doing this is relatively simple. To continue our comparison to spoken language, just as there are nouns, adjectives, and verbs in English, so are there objects, properties, and methods in Python!"
   ]
  },
  {
   "cell_type": "markdown",
   "metadata": {},
   "source": [
    "For example, let's say we needed to create a cat object in Python. Before we begin, we'd have to ask ourselves -- what does a cat need? Are there things all cats have in common? Are there attributes that are specific to a given cat? There's a lot to think about!"
   ]
  },
  {
   "cell_type": "markdown",
   "metadata": {},
   "source": [
    "Let's start by programming an empty Cat class. In Python, we typically name classes with a capital letter."
   ]
  },
  {
   "cell_type": "code",
   "execution_count": 2,
   "metadata": {
    "collapsed": true
   },
   "outputs": [],
   "source": [
    "class Cat(object):\n",
    "    pass"
   ]
  },
  {
   "cell_type": "markdown",
   "metadata": {},
   "source": [
    "We use the keyword `class` to tell Python we're introducing a new class of object. `Cat` is the name of that class of object, and it _inherits_ from the base class `object`. (We'll talk about inheritance if it comes up later, but for now, just know that this lets Python know to treat Cat like a default object - it's not part of some bigger class called Feline or anything.)"
   ]
  },
  {
   "cell_type": "markdown",
   "metadata": {},
   "source": [
    "What are some of the properties of a cat? We could consider the color of its coat, the color of its eyes, and give it a name.  To introduce these to our Cat class, we'd do the following:"
   ]
  },
  {
   "cell_type": "code",
   "execution_count": 3,
   "metadata": {
    "collapsed": false
   },
   "outputs": [],
   "source": [
    "class Cat(object):\n",
    "    def __init__(self, coat, eye_color, name):\n",
    "        self.coat = coat\n",
    "        self.eye_color = eye_color\n",
    "        self.name = name"
   ]
  },
  {
   "cell_type": "markdown",
   "metadata": {},
   "source": [
    "The `__init__` function is called any time you create a new _instance_ of the object (every time we create a new cat). Notice that this function takes arguments for the properties we discussed earlier. This function's job is to give values to the properties of the object. Specifially, this function assigns the Cat object a coat color, eye color, and a name. The `self` keyword indicates that these properties belong to an _instance_ of the Cat object, and _not all Cat objects_."
   ]
  },
  {
   "cell_type": "markdown",
   "metadata": {},
   "source": [
    "We can now create a cat! This process is called _instantiation_ -- we're creating an _instance_ of a cat; one _specific_ cat with its own attributes."
   ]
  },
  {
   "cell_type": "markdown",
   "metadata": {},
   "source": [
    "The code below creates a variable `kitty` that stores a Cat object, which has a calico coat, green eyes, and is named \"Jimbo\". But what good is a cat that doesn't do anything? We need _methods_ to allow the cat do do things! Let's add a method that allows the cat to purr or hiss. Methods are just like the functions you've come to know and love, only they're defined _inside_ a class. "
   ]
  },
  {
   "cell_type": "code",
   "execution_count": 2,
   "metadata": {
    "collapsed": true
   },
   "outputs": [],
   "source": [
    "class Cat(object):\n",
    "    def __init__(self, coat, eye_color, name):\n",
    "        self.coat = coat\n",
    "        self.eye_color = eye_color\n",
    "        self.name = name\n",
    "        \n",
    "    def purr(self):\n",
    "        print(\"purrrrrrrr\")\n",
    "    \n",
    "    def hiss(self):\n",
    "        print(\"hissssssss\")\n",
    "        \n",
    "kitty = Cat(\"calico\", \"green\", \"Jimbo\")"
   ]
  },
  {
   "cell_type": "code",
   "execution_count": 3,
   "metadata": {
    "collapsed": false
   },
   "outputs": [
    {
     "data": {
      "text/plain": [
       "'Jimbo'"
      ]
     },
     "execution_count": 3,
     "metadata": {},
     "output_type": "execute_result"
    }
   ],
   "source": [
    "kitty.name    #gets the name attribute for kitty"
   ]
  },
  {
   "cell_type": "code",
   "execution_count": 4,
   "metadata": {
    "collapsed": false
   },
   "outputs": [
    {
     "data": {
      "text/plain": [
       "'calico'"
      ]
     },
     "execution_count": 4,
     "metadata": {},
     "output_type": "execute_result"
    }
   ],
   "source": [
    "kitty.coat    #fetches the coat attribute for kitty"
   ]
  },
  {
   "cell_type": "code",
   "execution_count": 5,
   "metadata": {
    "collapsed": false
   },
   "outputs": [
    {
     "name": "stdout",
     "output_type": "stream",
     "text": [
      "hissssssss\n"
     ]
    }
   ],
   "source": [
    "kitty.hiss()"
   ]
  },
  {
   "cell_type": "markdown",
   "metadata": {},
   "source": [
    "Notice that object methods are called _after_ the variable. The empty parentheses denote that those methods take zero arguments."
   ]
  },
  {
   "cell_type": "markdown",
   "metadata": {},
   "source": [
    "See if you can create a Dog class that has the following properties: `name`, `breed`, `tricks`. When you create the dog object, tricks should be an empty list. Write a method `bark()` that causes \"woof!\" to be printed to the screen. Write a method called `train` that allows you to add a trick to the list of tricks the dog knows. Finally, create two dogs, give them different names and breeds, and teach them some tricks!"
   ]
  },
  {
   "cell_type": "code",
   "execution_count": 8,
   "metadata": {
    "collapsed": true
   },
   "outputs": [],
   "source": [
    "class Dog:\n",
    "    def __init__(self, name, breed):\n",
    "        self.name = name\n",
    "        self.breed = breed\n",
    "        self.tricks = []\n",
    "\n",
    "    @staticmethod\n",
    "    def bark():\n",
    "        print(\"woof\")\n",
    "\n",
    "    def learn(self, trick):\n",
    "        self.tricks.append(trick)"
   ]
  },
  {
   "cell_type": "code",
   "execution_count": 9,
   "metadata": {
    "collapsed": true
   },
   "outputs": [],
   "source": [
    "dog = Dog(\"Daisy\", \"Lab/Hound Mix\")"
   ]
  },
  {
   "cell_type": "code",
   "execution_count": 10,
   "metadata": {
    "collapsed": false
   },
   "outputs": [
    {
     "data": {
      "text/plain": [
       "'Daisy'"
      ]
     },
     "execution_count": 10,
     "metadata": {},
     "output_type": "execute_result"
    }
   ],
   "source": [
    "dog.name"
   ]
  },
  {
   "cell_type": "code",
   "execution_count": 11,
   "metadata": {
    "collapsed": false
   },
   "outputs": [
    {
     "name": "stdout",
     "output_type": "stream",
     "text": [
      "woof\n"
     ]
    }
   ],
   "source": [
    "dog.bark()"
   ]
  },
  {
   "cell_type": "code",
   "execution_count": 12,
   "metadata": {
    "collapsed": false
   },
   "outputs": [
    {
     "name": "stdout",
     "output_type": "stream",
     "text": [
      "woof\n"
     ]
    }
   ],
   "source": [
    "dog.bark()"
   ]
  },
  {
   "cell_type": "code",
   "execution_count": 13,
   "metadata": {
    "collapsed": true
   },
   "outputs": [],
   "source": [
    "dog.learn(\"Roll over\")"
   ]
  },
  {
   "cell_type": "code",
   "execution_count": 14,
   "metadata": {
    "collapsed": true
   },
   "outputs": [],
   "source": [
    "dog.learn(\"Beg\")"
   ]
  },
  {
   "cell_type": "code",
   "execution_count": 15,
   "metadata": {
    "collapsed": false
   },
   "outputs": [
    {
     "data": {
      "text/plain": [
       "['Roll over', 'Beg']"
      ]
     },
     "execution_count": 15,
     "metadata": {},
     "output_type": "execute_result"
    }
   ],
   "source": [
    "dog.tricks"
   ]
  }
 ],
 "metadata": {
  "anaconda-cloud": {},
  "kernelspec": {
   "display_name": "Python [default]",
   "language": "python",
   "name": "python3"
  },
  "language_info": {
   "codemirror_mode": {
    "name": "ipython",
    "version": 3
   },
   "file_extension": ".py",
   "mimetype": "text/x-python",
   "name": "python",
   "nbconvert_exporter": "python",
   "pygments_lexer": "ipython3",
   "version": "3.5.2"
  }
 },
 "nbformat": 4,
 "nbformat_minor": 0
}
