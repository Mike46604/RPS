{
 "cells": [
  {
   "cell_type": "markdown",
   "metadata": {},
   "source": [
    "# Shelves"
   ]
  },
  {
   "cell_type": "markdown",
   "metadata": {},
   "source": [
    "`shelve` is a module that behaves like a dictionary, but handles saving the data to your computer automatically. The only caveat is that unlike with `dict` objects, `shelves` can only use strings as keys. Remember, we can only assign one object _per key_!"
   ]
  },
  {
   "cell_type": "markdown",
   "metadata": {},
   "source": [
    "In the example below, we import the `shelve` module, then create a new `shelve` object that we call `s`, which opens (or creates) the file 'tutorial'. We then loop over the `shelve` as we would a dictionary, and use `%s` to format the output nicely."
   ]
  },
  {
   "cell_type": "code",
   "execution_count": null,
   "metadata": {
    "collapsed": false
   },
   "outputs": [],
   "source": [
    "import shelve\n",
    "\n",
    "s = shelve.open('test')\n",
    "\n",
    "# being limited to one object per key isn't so bad, since those objects can be lists,\n",
    "# dictionaries, or even a dictionary full of lists!\n",
    "\n",
    "s['name'] = 'Dave Enrico'\n",
    "s['age'] = 35\n",
    "s['likes'] = ['Vanilla Ice Cream', 'Dogs', 'Cats', 'Math']\n",
    "s['reads'] = {'sci-fi':['Dune','Ender\\'s Game', 'Do Androids Dream of Electric Sheep?'],\n",
    "             'fantasy':['The Hobbit', 'A Song of Ice and Fire'],\n",
    "             'non-fiction':['Freakonomics', 'Capital', 'The Icarus Deception']}\n",
    "\n",
    "\n",
    "for key, value in s.items():\n",
    "    print('%s: %s' % (key, value))\n",
    "\n",
    "s.close()"
   ]
  },
  {
   "cell_type": "code",
   "execution_count": 1,
   "metadata": {
    "collapsed": true
   },
   "outputs": [],
   "source": [
    "import shelve\n",
    "\n",
    "s = shelve.open('test')\n",
    "\n",
    "s['44002898'] = {'name': 'Rafael Galarza', 'likes': 'bad jokes'}\n",
    "s['11617'] = {'name': 'Bethel Adewale', 'likes': 'changing the pronunciation of her name'}\n",
    "s['4400975'] = {'name': 'Angifer Rojas', 'likes': 'mumbling'}\n",
    "s['']"
   ]
  },
  {
   "cell_type": "code",
   "execution_count": null,
   "metadata": {
    "collapsed": true
   },
   "outputs": [],
   "source": []
  }
 ],
 "metadata": {
  "kernelspec": {
   "display_name": "Python 3",
   "language": "python",
   "name": "python3"
  },
  "language_info": {
   "codemirror_mode": {
    "name": "ipython",
    "version": 3
   },
   "file_extension": ".py",
   "mimetype": "text/x-python",
   "name": "python",
   "nbconvert_exporter": "python",
   "pygments_lexer": "ipython3",
   "version": "3.5.2"
  }
 },
 "nbformat": 4,
 "nbformat_minor": 0
}
